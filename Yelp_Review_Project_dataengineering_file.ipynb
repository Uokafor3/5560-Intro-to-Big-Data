{
  "nbformat": 4,
  "nbformat_minor": 0,
  "metadata": {
    "colab": {
      "name": "Yelp_Review_Project.ipynb",
      "provenance": []
    },
    "kernelspec": {
      "name": "python3",
      "display_name": "Python 3"
    }
  },
  "cells": [
    {
      "cell_type": "code",
      "metadata": {
        "id": "gPhD2pwyZgEI",
        "colab_type": "code",
        "colab": {
          "base_uri": "https://localhost:8080/",
          "height": 122
        },
        "outputId": "8c8a858d-b60a-4d5b-b391-109a0c14c535"
      },
      "source": [
        "from google.colab import drive\n",
        "drive.mount('/content/drive')"
      ],
      "execution_count": 1,
      "outputs": [
        {
          "output_type": "stream",
          "text": [
            "Go to this URL in a browser: https://accounts.google.com/o/oauth2/auth?client_id=947318989803-6bn6qk8qdgf4n4g3pfee6491hc0brc4i.apps.googleusercontent.com&redirect_uri=urn%3aietf%3awg%3aoauth%3a2.0%3aoob&response_type=code&scope=email%20https%3a%2f%2fwww.googleapis.com%2fauth%2fdocs.test%20https%3a%2f%2fwww.googleapis.com%2fauth%2fdrive%20https%3a%2f%2fwww.googleapis.com%2fauth%2fdrive.photos.readonly%20https%3a%2f%2fwww.googleapis.com%2fauth%2fpeopleapi.readonly\n",
            "\n",
            "Enter your authorization code:\n",
            "··········\n",
            "Mounted at /content/drive\n"
          ],
          "name": "stdout"
        }
      ]
    },
    {
      "cell_type": "markdown",
      "metadata": {
        "id": "wei_qNiGqwFk",
        "colab_type": "text"
      },
      "source": [
        "download dataset from kaggle.com and save in google drive"
      ]
    },
    {
      "cell_type": "code",
      "metadata": {
        "id": "VlY8Vcxhb3FA",
        "colab_type": "code",
        "colab": {
          "base_uri": "https://localhost:8080/",
          "height": 258
        },
        "outputId": "4a9bc2da-9583-4980-8c95-c778bd44286a"
      },
      "source": [
        "#! wget -O yelp_reviews.zip 'https://storage.googleapis.com/kaggle-data-sets/176267/397518/compressed/yelp_academic_dataset_review.csv.zip?GoogleAccessId=web-data@kaggle-161607.iam.gserviceaccount.com&Expires=1588125031&Signature=ptQQ%2F%2BVilh%2FPes3vB%2BODAQ%2BfHmAktz98JZ1ld2sDIS3jkD8GcLxgb0HWeJIYpuUH3%2BUr90J89LUHAiujailyAVa5VCEnZJkkBsB1JTUc3SQpGhEg9ncbGPcU0ptHAuS8BLP5aO4RDgkLu9otDAR6m0ja3BpFzR%2F4VvutOaSf783%2FUX6Ekc7%2BPjW%2Fbn3uxFDF1YUDnzizXZQ6sEyjOFPnxzCSqZ2rOqH8SN1LwzV%2B8uO52mPjDYwoLCWULK28%2FIoWf3G%2BwOkAdLlOA6HEUVPAB3Pv0odkLd4d1ni9rewjbM95fBjnqYZnSr%2FkvTgNhmPnD3VH1ZUMtDWnPkumIJXBfw%3D%3D&response-content-disposition=attachment%3B+filename%3Dyelp_academic_dataset_review.csv.zip'\n",
        "#! unzip yelp_reviews.zip"
      ],
      "execution_count": 6,
      "outputs": [
        {
          "output_type": "stream",
          "text": [
            "--2020-05-14 18:34:59--  https://storage.googleapis.com/kaggle-data-sets/176267/397518/compressed/yelp_academic_dataset_review.csv.zip?GoogleAccessId=web-data@kaggle-161607.iam.gserviceaccount.com&Expires=1588125031&Signature=ptQQ%2F%2BVilh%2FPes3vB%2BODAQ%2BfHmAktz98JZ1ld2sDIS3jkD8GcLxgb0HWeJIYpuUH3%2BUr90J89LUHAiujailyAVa5VCEnZJkkBsB1JTUc3SQpGhEg9ncbGPcU0ptHAuS8BLP5aO4RDgkLu9otDAR6m0ja3BpFzR%2F4VvutOaSf783%2FUX6Ekc7%2BPjW%2Fbn3uxFDF1YUDnzizXZQ6sEyjOFPnxzCSqZ2rOqH8SN1LwzV%2B8uO52mPjDYwoLCWULK28%2FIoWf3G%2BwOkAdLlOA6HEUVPAB3Pv0odkLd4d1ni9rewjbM95fBjnqYZnSr%2FkvTgNhmPnD3VH1ZUMtDWnPkumIJXBfw%3D%3D&response-content-disposition=attachment%3B+filename%3Dyelp_academic_dataset_review.csv.zip\n",
            "Resolving storage.googleapis.com (storage.googleapis.com)... 64.233.189.128, 2404:6800:4008:c07::80\n",
            "Connecting to storage.googleapis.com (storage.googleapis.com)|64.233.189.128|:443... connected.\n",
            "HTTP request sent, awaiting response... 400 Bad Request\n",
            "2020-05-14 18:34:59 ERROR 400: Bad Request.\n",
            "\n",
            "Archive:  yelp_reviews.zip\n",
            "  End-of-central-directory signature not found.  Either this file is not\n",
            "  a zipfile, or it constitutes one disk of a multi-part archive.  In the\n",
            "  latter case the central directory and zipfile comment will be found on\n",
            "  the last disk(s) of this archive.\n",
            "unzip:  cannot find zipfile directory in one of yelp_reviews.zip or\n",
            "        yelp_reviews.zip.zip, and cannot find yelp_reviews.zip.ZIP, period.\n"
          ],
          "name": "stdout"
        }
      ]
    },
    {
      "cell_type": "code",
      "metadata": {
        "id": "YjAorJNJb8Gg",
        "colab_type": "code",
        "colab": {
          "base_uri": "https://localhost:8080/",
          "height": 136
        },
        "outputId": "305b49a8-0d82-47cb-a3e3-6427ede30c29"
      },
      "source": [
        "#! ls -la"
      ],
      "execution_count": 3,
      "outputs": [
        {
          "output_type": "stream",
          "text": [
            "total 20\n",
            "drwxr-xr-x 1 root root 4096 May 14 18:34 .\n",
            "drwxr-xr-x 1 root root 4096 May 14 18:20 ..\n",
            "drwxr-xr-x 1 root root 4096 May  8 16:16 .config\n",
            "drwx------ 4 root root 4096 May 14 18:34 drive\n",
            "drwxr-xr-x 1 root root 4096 May  4 16:26 sample_data\n",
            "-rw-r--r-- 1 root root    0 May 14 18:34 yelp_reviews.zip\n"
          ],
          "name": "stdout"
        }
      ]
    },
    {
      "cell_type": "code",
      "metadata": {
        "id": "d_GumKkFcC1-",
        "colab_type": "code",
        "colab": {}
      },
      "source": [
        "import pandas as pd"
      ],
      "execution_count": 0,
      "outputs": []
    },
    {
      "cell_type": "markdown",
      "metadata": {
        "id": "7lUHpshxqpHl",
        "colab_type": "text"
      },
      "source": [
        "Read dataset from google drive"
      ]
    },
    {
      "cell_type": "code",
      "metadata": {
        "id": "Tt3VgXmCdCOS",
        "colab_type": "code",
        "colab": {}
      },
      "source": [
        "df = pd.read_csv('/content/drive/My Drive/yelp_academic_dataset_review.csv')"
      ],
      "execution_count": 0,
      "outputs": []
    },
    {
      "cell_type": "code",
      "metadata": {
        "id": "qtOwBDqCdCLB",
        "colab_type": "code",
        "colab": {}
      },
      "source": [
        "df.head()"
      ],
      "execution_count": 0,
      "outputs": []
    },
    {
      "cell_type": "markdown",
      "metadata": {
        "id": "CKz3vgyyqOVp",
        "colab_type": "text"
      },
      "source": [
        "### Clean dataset by removing the b in front of all entries and also the inverted commas present in all string values"
      ]
    },
    {
      "cell_type": "code",
      "metadata": {
        "id": "je6EudundCFV",
        "colab_type": "code",
        "colab": {}
      },
      "source": [
        "for col in df.columns:\n",
        "    df[col] = df[col].apply(lambda x: x[1:].lstrip(').rstrip('))"
      ],
      "execution_count": 0,
      "outputs": []
    },
    {
      "cell_type": "code",
      "metadata": {
        "id": "pq7idayVdCBH",
        "colab_type": "code",
        "colab": {}
      },
      "source": [
        "for col in df.columns:\n",
        "    if col not in ['funny','cool','useful','stars']:\n",
        "        df[col] = df[col].apply(lambda x: x.lstrip(\"'\").rstrip(\"'\").lstrip('\"').rstrip('\"'))"
      ],
      "execution_count": 0,
      "outputs": []
    },
    {
      "cell_type": "code",
      "metadata": {
        "id": "RcSzI6RPdB8m",
        "colab_type": "code",
        "colab": {}
      },
      "source": [
        "df_head()"
      ],
      "execution_count": 0,
      "outputs": []
    },
    {
      "cell_type": "code",
      "metadata": {
        "id": "7ucnss0-pC1Z",
        "colab_type": "code",
        "colab": {}
      },
      "source": [
        ""
      ],
      "execution_count": 0,
      "outputs": []
    },
    {
      "cell_type": "markdown",
      "metadata": {
        "id": "XE7Tvxb_q0yf",
        "colab_type": "text"
      },
      "source": [
        "Create a subset from of 1500000 rows. This would be used for Oracle BDCE Machine Learning"
      ]
    },
    {
      "cell_type": "code",
      "metadata": {
        "id": "A--n6TYadB4Z",
        "colab_type": "code",
        "colab": {}
      },
      "source": [
        "df_ml = df[0:1500000:1]"
      ],
      "execution_count": 0,
      "outputs": []
    },
    {
      "cell_type": "code",
      "metadata": {
        "id": "xz6mYA4ldBy7",
        "colab_type": "code",
        "colab": {}
      },
      "source": [
        "len(df_ml)"
      ],
      "execution_count": 0,
      "outputs": []
    },
    {
      "cell_type": "markdown",
      "metadata": {
        "id": "F6OHPiP4rMRg",
        "colab_type": "text"
      },
      "source": [
        "Write new dataframe into google drive"
      ]
    },
    {
      "cell_type": "code",
      "metadata": {
        "id": "cwdV03RfdBs_",
        "colab_type": "code",
        "colab": {}
      },
      "source": [
        "#df1.to_csv('/content/drive/My Drive/clean_data.csv')"
      ],
      "execution_count": 0,
      "outputs": []
    },
    {
      "cell_type": "markdown",
      "metadata": {
        "id": "4fumBTpOrWsj",
        "colab_type": "text"
      },
      "source": [
        "Read dataframe fro googledrive"
      ]
    },
    {
      "cell_type": "code",
      "metadata": {
        "id": "XairSg14dBlH",
        "colab_type": "code",
        "colab": {}
      },
      "source": [
        "#df_ml = pd.read_csv('/content/drive/My Drive/clean_data.csv')"
      ],
      "execution_count": 0,
      "outputs": []
    },
    {
      "cell_type": "markdown",
      "metadata": {
        "id": "sjXZB4S8rgUn",
        "colab_type": "text"
      },
      "source": [
        "Convert Alphanumeric values of string data type into Numeric Values"
      ]
    },
    {
      "cell_type": "code",
      "metadata": {
        "id": "owr8WfKEdBbY",
        "colab_type": "code",
        "colab": {}
      },
      "source": [
        "id_list = list(set(df_ml.user_id))\n",
        "id_list2 = list(set(df_ml.business_id))\n",
        "id_list3 = list(set(df_ml.review_id))"
      ],
      "execution_count": 0,
      "outputs": []
    },
    {
      "cell_type": "code",
      "metadata": {
        "id": "8eIDZubohWA1",
        "colab_type": "code",
        "colab": {}
      },
      "source": [
        "df_ml['user_id'] = df_ml['user_id'].apply(lambda x: id_list.index(x))"
      ],
      "execution_count": 0,
      "outputs": []
    },
    {
      "cell_type": "code",
      "metadata": {
        "id": "JBbD3ICwhV9q",
        "colab_type": "code",
        "colab": {}
      },
      "source": [
        "df_ml['business_id'] = df_ml['business_id'].apply(lambda x: id_list2.index(x))"
      ],
      "execution_count": 0,
      "outputs": []
    },
    {
      "cell_type": "code",
      "metadata": {
        "id": "XKZQ2Q2ZhV5W",
        "colab_type": "code",
        "colab": {}
      },
      "source": [
        "df_ml['review_id'] = df_ml['review_id'].apply(lambda x: id_list3.index(x))"
      ],
      "execution_count": 0,
      "outputs": []
    },
    {
      "cell_type": "code",
      "metadata": {
        "id": "QdJwxi6IhV1B",
        "colab_type": "code",
        "colab": {}
      },
      "source": [
        "df_ml.head()"
      ],
      "execution_count": 0,
      "outputs": []
    },
    {
      "cell_type": "markdown",
      "metadata": {
        "id": "dU64y2sJs0UQ",
        "colab_type": "text"
      },
      "source": [
        "Normalizing User_id, business_id, and review_id columns in preparation for Machine Learning"
      ]
    },
    {
      "cell_type": "code",
      "metadata": {
        "id": "IReFnkc0hVwh",
        "colab_type": "code",
        "colab": {}
      },
      "source": [
        "from sklearn.preprocessing import StandardScaler\n",
        "from sklearn import preprocessing"
      ],
      "execution_count": 0,
      "outputs": []
    },
    {
      "cell_type": "code",
      "metadata": {
        "id": "umERPybjhVsm",
        "colab_type": "code",
        "colab": {}
      },
      "source": [
        "x = df_ml[['user_id']].values.astype(float)\n",
        "min_max_scaler = preprocessing.MinMaxScaler()\n",
        "x_scaled = min_max_scaler.fit_transform(x)\n",
        "df_normalized = pd.DataFrame(x_scaled)"
      ],
      "execution_count": 0,
      "outputs": []
    },
    {
      "cell_type": "code",
      "metadata": {
        "id": "PvHueGnZhVqN",
        "colab_type": "code",
        "colab": {}
      },
      "source": [
        "y = df_ml[['business_id']].values.astype(float)\n",
        "min_max_scaler = preprocessing.MinMaxScaler()\n",
        "y_scaled = min_max_scaler.fit_transform(y)\n",
        "df_norm = pd.DataFrame(y_scaled)"
      ],
      "execution_count": 0,
      "outputs": []
    },
    {
      "cell_type": "code",
      "metadata": {
        "id": "tDhkiFTthVn4",
        "colab_type": "code",
        "colab": {}
      },
      "source": [
        "z = df_ml[['review_id']].values.astype(float)\n",
        "min_max_scaler = preprocessing.MinMaxScaler()\n",
        "y_scaled = min_max_scaler.fit_transform(z)\n",
        "df_normal = pd.DataFrame(y_scaled)"
      ],
      "execution_count": 0,
      "outputs": []
    },
    {
      "cell_type": "code",
      "metadata": {
        "id": "vecoOKcKhVhE",
        "colab_type": "code",
        "colab": {}
      },
      "source": [
        "df_ml['user_id'] = df_normalized"
      ],
      "execution_count": 0,
      "outputs": []
    },
    {
      "cell_type": "code",
      "metadata": {
        "id": "JaEFCmlUhVdX",
        "colab_type": "code",
        "colab": {}
      },
      "source": [
        "df_ml['business_id'] = df_norm"
      ],
      "execution_count": 0,
      "outputs": []
    },
    {
      "cell_type": "code",
      "metadata": {
        "id": "9bJjzAwihVX6",
        "colab_type": "code",
        "colab": {}
      },
      "source": [
        "df_ml['review_id'] = df_normal"
      ],
      "execution_count": 0,
      "outputs": []
    },
    {
      "cell_type": "code",
      "metadata": {
        "id": "RvZWTx_ShVOT",
        "colab_type": "code",
        "colab": {}
      },
      "source": [
        "df_ml.head()"
      ],
      "execution_count": 0,
      "outputs": []
    },
    {
      "cell_type": "markdown",
      "metadata": {
        "id": "ZzRJIzcpuGzQ",
        "colab_type": "text"
      },
      "source": [
        "Write new dataframe into google drive\n",
        "df_ml will be used for Oracle BDCE while df2 will be used for databricks BDCE"
      ]
    },
    {
      "cell_type": "code",
      "metadata": {
        "id": "l_5aRsg7kCxQ",
        "colab_type": "code",
        "colab": {}
      },
      "source": [
        "df2 = df_ml[0:120000:1]"
      ],
      "execution_count": 0,
      "outputs": []
    },
    {
      "cell_type": "code",
      "metadata": {
        "id": "K_3ZJzX2j1q4",
        "colab_type": "code",
        "colab": {}
      },
      "source": [
        "df_ml.to_csv('/content/drive/My Drive/scaled_clean_data.csv')"
      ],
      "execution_count": 0,
      "outputs": []
    },
    {
      "cell_type": "code",
      "metadata": {
        "id": "4DAY0-jwj1eg",
        "colab_type": "code",
        "colab": {}
      },
      "source": [
        "df2.to_csv('/content/drive/My Drive/scaled_subset.csv')"
      ],
      "execution_count": 0,
      "outputs": []
    },
    {
      "cell_type": "markdown",
      "metadata": {
        "id": "oHREPqTjuPzB",
        "colab_type": "text"
      },
      "source": [
        "DATA ANALYSIS USING SCALED_SUBSET.CSV "
      ]
    },
    {
      "cell_type": "code",
      "metadata": {
        "id": "K9Qq7qtEj1UF",
        "colab_type": "code",
        "colab": {}
      },
      "source": [
        "#IMPORTING DATA FRAME ONCE MORE"
      ],
      "execution_count": 0,
      "outputs": []
    },
    {
      "cell_type": "code",
      "metadata": {
        "id": "zvVfQOawvJUP",
        "colab_type": "code",
        "colab": {}
      },
      "source": [
        "import pandas as pd\n",
        "import pandas.util.testing as tm\n",
        "import matplotlib.pyplot as plt\n",
        "import seaborn as sns\n",
        "%matplotlib inline\n",
        "plt.rcParams['figure.figsize'] = 12, 6\n",
        "import warnings\n",
        "warnings.filterwarnings('ignore')"
      ],
      "execution_count": 0,
      "outputs": []
    },
    {
      "cell_type": "code",
      "metadata": {
        "id": "7t2wwqwWdBMq",
        "colab_type": "code",
        "colab": {}
      },
      "source": [
        "df_ml = pd.read_csv('/content/drive/My Drive/scaled_subset.csv')"
      ],
      "execution_count": 0,
      "outputs": []
    },
    {
      "cell_type": "markdown",
      "metadata": {
        "id": "LwtHbuMvvgoJ",
        "colab_type": "text"
      },
      "source": [
        "Boxplots and Linear Regression plots to show relatioships between the useful, cool, funny and stars column"
      ]
    },
    {
      "cell_type": "code",
      "metadata": {
        "id": "T1h50BUQvXcY",
        "colab_type": "code",
        "colab": {}
      },
      "source": [
        "vis1 = sns.boxplot(data = df_ml, x = 'stars', y = 'cool')"
      ],
      "execution_count": 0,
      "outputs": []
    },
    {
      "cell_type": "code",
      "metadata": {
        "id": "gT8hGlAhvXZK",
        "colab_type": "code",
        "colab": {}
      },
      "source": [
        "vis2 = sns.boxplot(data = df_ml, x = 'stars', y = 'funny')"
      ],
      "execution_count": 0,
      "outputs": []
    },
    {
      "cell_type": "code",
      "metadata": {
        "id": "Ba2UsE6lvXU0",
        "colab_type": "code",
        "colab": {}
      },
      "source": [
        "vis3 = sns.boxplot(data = df_ml, y = 'useful', x = 'stars')"
      ],
      "execution_count": 0,
      "outputs": []
    },
    {
      "cell_type": "code",
      "metadata": {
        "id": "YB60PLPqvXRm",
        "colab_type": "code",
        "colab": {}
      },
      "source": [
        "sns.set_style('darkgrid')\n",
        "f, axes = plt.subplots(2, 2, figsize = (15, 15))\n",
        "vis1 = sns.boxplot(data = df_ml, x = 'stars', y = 'cool', ax = axes[0, 0])\n",
        "vis2 = sns.boxplot(data = df_ml, x = 'stars', y = 'funny', ax = axes[0, 1])\n",
        "vis3 = sns.boxplot(data = df_ml, y = 'useful', x = 'stars', ax = axes[1, 0])\n",
        "vis01 = sns.lmplot(data = df_ml, x = 'cool', y = 'cool', fit_reg = False, hue = 'stars', scatter_kws = {'s':100})"
      ],
      "execution_count": 0,
      "outputs": []
    },
    {
      "cell_type": "code",
      "metadata": {
        "id": "-KUpLKRJvXNQ",
        "colab_type": "code",
        "colab": {}
      },
      "source": [
        "vis11 = sns.lmplot(data = df_ml, x = 'cool', y = 'funny', fit_reg = False, hue = 'stars', scatter_kws = {'s':100})"
      ],
      "execution_count": 0,
      "outputs": []
    },
    {
      "cell_type": "code",
      "metadata": {
        "id": "wKY4Cs6PvXHJ",
        "colab_type": "code",
        "colab": {}
      },
      "source": [
        "vis12 = sns.lmplot(data = df_ml, x = 'cool', y = 'useful', fit_reg = False, hue = 'stars', scatter_kws = {'s':100})"
      ],
      "execution_count": 0,
      "outputs": []
    },
    {
      "cell_type": "code",
      "metadata": {
        "id": "kb9XJzqQvW_j",
        "colab_type": "code",
        "colab": {}
      },
      "source": [
        "vis13 = sns.lmplot(data = df_ml, x = 'useful', y = 'funny', fit_reg = False, hue = 'stars', scatter_kws = {'s':100})"
      ],
      "execution_count": 0,
      "outputs": []
    },
    {
      "cell_type": "markdown",
      "metadata": {
        "id": "i8sy0MKvxIWX",
        "colab_type": "text"
      },
      "source": [
        "PLOT to generate Top 25 Words In from the text column for each of the ratings in the stars column "
      ]
    },
    {
      "cell_type": "code",
      "metadata": {
        "id": "SxXfXUWmvWxH",
        "colab_type": "code",
        "colab": {}
      },
      "source": [
        "import nltk"
      ],
      "execution_count": 0,
      "outputs": []
    },
    {
      "cell_type": "code",
      "metadata": {
        "id": "x6ZMN62ox0wl",
        "colab_type": "code",
        "colab": {}
      },
      "source": [
        "nltk.download('stopwords')\n",
        "nltk.download('punkt')"
      ],
      "execution_count": 0,
      "outputs": []
    },
    {
      "cell_type": "code",
      "metadata": {
        "id": "HOC7se_Sx0qc",
        "colab_type": "code",
        "colab": {}
      },
      "source": [
        "from nltk.corpus import stopwords\n",
        "from nltk.tokenize import word_tokenize\n",
        "from nltk.probability import FreqDist\n",
        "from nltk.util import bigrams\n",
        "import string\n",
        "import re"
      ],
      "execution_count": 0,
      "outputs": []
    },
    {
      "cell_type": "code",
      "metadata": {
        "id": "NIir50uyx0lS",
        "colab_type": "code",
        "colab": {}
      },
      "source": [
        "stop_words = set(stopwords.words('english'))"
      ],
      "execution_count": 0,
      "outputs": []
    },
    {
      "cell_type": "markdown",
      "metadata": {
        "id": "gr5jDoP40Zb7",
        "colab_type": "text"
      },
      "source": [
        "Create new column 'tokens'"
      ]
    },
    {
      "cell_type": "code",
      "metadata": {
        "id": "36g_nWZtx0ir",
        "colab_type": "code",
        "colab": {}
      },
      "source": [
        "df_ml['tokens'] = df_ml['text'].apply(lambda x: word_tokenize(x) )"
      ],
      "execution_count": 0,
      "outputs": []
    },
    {
      "cell_type": "code",
      "metadata": {
        "id": "GpMkIsFFx0dg",
        "colab_type": "code",
        "colab": {}
      },
      "source": [
        "def rm_stop_words(tokens):\n",
        "    filtered = [w for w in tokens if not w.lower() in stop_words] \n",
        "    return filtered\n",
        "\n",
        "def rm_puctuation(tokens):\n",
        "    init_filter = [w for w in tokens if w not in string.punctuation]\n",
        "    table = str.maketrans('', '', string.punctuation)\n",
        "    stripped = [w.translate(table) for w in init_filter]\n",
        "    clean = [w for w in stripped if w not in ['',' ']]\n",
        "    return clean\n",
        "\n",
        "def filter_tokens(tokens):\n",
        "    filtered = rm_stop_words(tokens)\n",
        "    new_tokens = rm_puctuation(filtered)\n",
        "    return new_tokens"
      ],
      "execution_count": 0,
      "outputs": []
    },
    {
      "cell_type": "markdown",
      "metadata": {
        "id": "2ygKE4pf0iQv",
        "colab_type": "text"
      },
      "source": [
        "Create new column 'tokens_no_stopwords'"
      ]
    },
    {
      "cell_type": "code",
      "metadata": {
        "id": "U-5nBs_6x0ZK",
        "colab_type": "code",
        "colab": {}
      },
      "source": [
        "df_ml['tokens_no_stopwords'] = df_ml['tokens'].apply(lambda x: filter_tokens(x))"
      ],
      "execution_count": 0,
      "outputs": []
    },
    {
      "cell_type": "markdown",
      "metadata": {
        "id": "NyeRMKzb0uID",
        "colab_type": "text"
      },
      "source": [
        "Create new column 'bigrams_'"
      ]
    },
    {
      "cell_type": "code",
      "metadata": {
        "id": "fZPu8Kzex0VT",
        "colab_type": "code",
        "colab": {}
      },
      "source": [
        "df_ml['bigrams_'] = df_ml.tokens_no_stopwords.apply(lambda x: list(bigrams(x)))"
      ],
      "execution_count": 0,
      "outputs": []
    },
    {
      "cell_type": "code",
      "metadata": {
        "id": "z-zHW3HEx0Qo",
        "colab_type": "code",
        "colab": {}
      },
      "source": [
        "o_reviews = df_ml[df_ml.stars == 1.0]\n",
        "t_reviews = df_ml[df_ml.stars == 2.0]\n",
        "th_reviews = df_ml[df_ml.stars == 3.0]\n",
        "f_reviews = df_ml[df_ml.stars == 4.0]\n",
        "fi_reviews = df_ml[df_ml.stars == 5.0]\n",
        "#th_reviews.head()"
      ],
      "execution_count": 0,
      "outputs": []
    },
    {
      "cell_type": "code",
      "metadata": {
        "id": "nH88NuKDx0KC",
        "colab_type": "code",
        "colab": {}
      },
      "source": [
        "o_fdist = FreqDist(word.lower() for word_lst in o_reviews.tokens_no_stopwords for word in word_lst)\n",
        "t_fdist = FreqDist(word.lower() for word_lst in t_reviews.tokens_no_stopwords for word in word_lst)\n",
        "th_fdist = FreqDist(word.lower() for word_lst in th_reviews.tokens_no_stopwords for word in word_lst)\n",
        "f_fdist = FreqDist(word.lower() for word_lst in f_reviews.tokens_no_stopwords for word in word_lst)\n",
        "fi_fdist = FreqDist(word.lower() for word_lst in fi_reviews.tokens_no_stopwords for word in word_lst)"
      ],
      "execution_count": 0,
      "outputs": []
    },
    {
      "cell_type": "markdown",
      "metadata": {
        "id": "HpjKXQr10EUt",
        "colab_type": "text"
      },
      "source": [
        "PLOT GRAPH FOR TOP 25 WORDS IN EACH OF THE RATINGS IN STARS COLUMN"
      ]
    },
    {
      "cell_type": "code",
      "metadata": {
        "id": "0EK_rd-Exz9e",
        "colab_type": "code",
        "colab": {}
      },
      "source": [
        "o_fdist.plot(25,title=\"Top 25 Words In 1 star\")"
      ],
      "execution_count": 0,
      "outputs": []
    },
    {
      "cell_type": "code",
      "metadata": {
        "id": "qxAFCRAVy74u",
        "colab_type": "code",
        "colab": {}
      },
      "source": [
        "t_fdist.plot(25,title=\"Top 25 Words In 2 star\")"
      ],
      "execution_count": 0,
      "outputs": []
    },
    {
      "cell_type": "code",
      "metadata": {
        "id": "ekQFZ8yGy7zS",
        "colab_type": "code",
        "colab": {}
      },
      "source": [
        "th_fdist.plot(25,title=\"Top 25 Words In 3 star\")"
      ],
      "execution_count": 0,
      "outputs": []
    },
    {
      "cell_type": "code",
      "metadata": {
        "id": "sqq2bgk7y7sB",
        "colab_type": "code",
        "colab": {}
      },
      "source": [
        "f_fdist.plot(25,title=\"Top 25 Words In 4 star\")"
      ],
      "execution_count": 0,
      "outputs": []
    },
    {
      "cell_type": "code",
      "metadata": {
        "id": "pCyGGkFhxzXZ",
        "colab_type": "code",
        "colab": {}
      },
      "source": [
        "fi_fdist.plot(25,title=\"Top 25 Words In 5 star\")"
      ],
      "execution_count": 0,
      "outputs": []
    },
    {
      "cell_type": "markdown",
      "metadata": {
        "id": "9nb8nIdf0S9q",
        "colab_type": "text"
      },
      "source": [
        "Plot graphs of day, months with stars as legend to understand the relation if any"
      ]
    },
    {
      "cell_type": "code",
      "metadata": {
        "id": "CmsveGfvzgqP",
        "colab_type": "code",
        "colab": {}
      },
      "source": [
        "import os\n",
        "import pandas as pd\n",
        "import pandas_profiling as pf\n",
        "from datetime import datetime as dt\n",
        "import calendar\n",
        "import pickle"
      ],
      "execution_count": 0,
      "outputs": []
    },
    {
      "cell_type": "code",
      "metadata": {
        "id": "0Q1-TwPwzgez",
        "colab_type": "code",
        "colab": {}
      },
      "source": [
        "def get_day(date_string):\n",
        "    return calendar.day_name[dt.strptime(date_string, \"%Y-%m-%d %H:%M:%S\").weekday()]\n",
        "def get_month(date_string):\n",
        "    return calendar.month_name[dt.strptime(date_string, \"%Y-%m-%d %H:%M:%S\").month]"
      ],
      "execution_count": 0,
      "outputs": []
    },
    {
      "cell_type": "markdown",
      "metadata": {
        "id": "LIlgboBI1b_A",
        "colab_type": "text"
      },
      "source": [
        "Create new columns day and month"
      ]
    },
    {
      "cell_type": "code",
      "metadata": {
        "id": "-g4TtMGizgUA",
        "colab_type": "code",
        "colab": {}
      },
      "source": [
        "df_ml['day'] = df_ml.date.apply(lambda x: get_day(x))\n",
        "df_ml['month'] = df_ml.date.apply(lambda x: get_month(x))"
      ],
      "execution_count": 0,
      "outputs": []
    },
    {
      "cell_type": "code",
      "metadata": {
        "id": "yyHy090QzgNL",
        "colab_type": "code",
        "colab": {}
      },
      "source": [
        "pd.crosstab(df_ml.day, df_ml.stars).plot(kind='bar',rot=1,title='Distribution of reviews by Day')"
      ],
      "execution_count": 0,
      "outputs": []
    },
    {
      "cell_type": "code",
      "metadata": {
        "id": "CBhKXCZvzgEf",
        "colab_type": "code",
        "colab": {}
      },
      "source": [
        "pd.crosstab(df_ml.month, df_ml.stars).plot(kind='bar',rot=1,title='Distribution of reviews by Months')"
      ],
      "execution_count": 0,
      "outputs": []
    }
  ]
}